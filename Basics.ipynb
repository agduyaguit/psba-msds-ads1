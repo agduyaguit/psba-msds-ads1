{
 "cells": [
  {
   "cell_type": "markdown",
   "id": "a3109eb2",
   "metadata": {},
   "source": [
    "# Title (#)\n",
    "## Header 1 (##)\n",
    "### Header 2 (###)\n",
    "#### Header 3 (####)\n",
    "\n",
    "plain text ...shift enter to run cell"
   ]
  },
  {
   "cell_type": "code",
   "execution_count": null,
   "id": "bd671fcf",
   "metadata": {},
   "outputs": [],
   "source": [
    "print('I am a code cell')\n",
    "print(\"She said 'Good morning'\")\n",
    "print(\"He said 'Hello'\")\n",
    "print(\"first line \")\n",
    "\n",
    "string_1 = \"Hi, this is string 1\"\n",
    "string_2 = \"Yo, this is string 2\"\n",
    "\n",
    "print(string_1)\n",
    "print(string_2)\n",
    "\n",
    "print(string_1 + '. ' + string_2)\n",
    "print(f\"{string_1}. {string_2}\")"
   ]
  },
  {
   "cell_type": "code",
   "execution_count": 24,
   "id": "248f04a9",
   "metadata": {},
   "outputs": [],
   "source": [
    "a = 100\n",
    "b = 3.24\n",
    "c = \"Hello\"\n",
    "d = True\n",
    "e = None"
   ]
  },
  {
   "cell_type": "code",
   "execution_count": null,
   "id": "453fbdf0",
   "metadata": {},
   "outputs": [],
   "source": [
    "print(f\"integer: {a}\")\n",
    "print(f\"float: {b}\")\n",
    "print(f\"string: {c}\")\n",
    "print(f\"Boolean: {d}\")\n",
    "print(f\"None type: {e}\")"
   ]
  }
 ],
 "metadata": {
  "kernelspec": {
   "display_name": "Python 3",
   "language": "python",
   "name": "python3"
  },
  "language_info": {
   "codemirror_mode": {
    "name": "ipython",
    "version": 3
   },
   "file_extension": ".py",
   "mimetype": "text/x-python",
   "name": "python",
   "nbconvert_exporter": "python",
   "pygments_lexer": "ipython3",
   "version": "3.9.6"
  }
 },
 "nbformat": 4,
 "nbformat_minor": 5
}
